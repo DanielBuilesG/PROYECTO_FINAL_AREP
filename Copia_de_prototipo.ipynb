{
  "cells": [
    {
      "cell_type": "code",
      "execution_count": null,
      "metadata": {
        "id": "j0jCRSVx5LqX"
      },
      "outputs": [],
      "source": [
        "import pandas as pd\n",
        "import matplotlib.pyplot as plt\n",
        "import seaborn as sns\n",
        "import numpy as np\n",
        "from random import randrange\n",
        "from sklearn.impute import SimpleImputer\n",
        "from sklearn.impute import KNNImputer\n",
        "from sklearn.metrics import mean_squared_error\n",
        "from sklearn.model_selection import train_test_split\n",
        "from sklearn.tree import DecisionTreeClassifier\n",
        "from sklearn.ensemble import RandomForestClassifier\n",
        "from sklearn.metrics import accuracy_score, classification_report\n",
        "from sklearn.svm import SVC\n",
        "\n",
        "df = pd.read_excel(\"dataSet.xlsx\")"
      ]
    },
    {
      "cell_type": "code",
      "execution_count": null,
      "metadata": {
        "colab": {
          "base_uri": "https://localhost:8080/"
        },
        "id": "YqeLCR215LqZ",
        "outputId": "05e80717-0347-4fb8-91e8-d6d39fdb68eb"
      },
      "outputs": [
        {
          "output_type": "stream",
          "name": "stdout",
          "text": [
            "   Id  HoraPico  Festivo  Lluvia  Peatones  Vehiculos  Aumento\n",
            "0   1         0        0       1         0          1        1\n",
            "1   2         1        0       1         1          1        1\n",
            "2   3         1        0       0         0          1        1\n",
            "3   4         0        1       0         2          1        0\n",
            "4   5         0        0       0         0          1        1\n"
          ]
        }
      ],
      "source": [
        "print(df.head())"
      ]
    },
    {
      "cell_type": "code",
      "execution_count": null,
      "metadata": {
        "colab": {
          "base_uri": "https://localhost:8080/"
        },
        "id": "vE8TAb275Lqa",
        "outputId": "7a127566-cd3e-4204-f816-c336062c580f"
      },
      "outputs": [
        {
          "output_type": "stream",
          "name": "stdout",
          "text": [
            "   HoraPico  Festivo  Lluvia  Peatones  Vehiculos\n",
            "0         0        0       1         0          1\n",
            "1         1        0       1         1          1\n",
            "2         1        0       0         0          1\n",
            "3         0        1       0         2          1\n",
            "4         0        0       0         0          1\n"
          ]
        }
      ],
      "source": [
        "train_set = df.drop([\"Id\", \"Aumento\"], axis=1)\n",
        "print(train_set.head())\n",
        "\n",
        "class_set = df[\"Aumento\"]"
      ]
    },
    {
      "cell_type": "code",
      "execution_count": null,
      "metadata": {
        "colab": {
          "base_uri": "https://localhost:8080/"
        },
        "id": "H4EYCSYW5Lqb",
        "outputId": "8a1c43da-d1a7-4600-9623-89f8d03faee4"
      },
      "outputs": [
        {
          "output_type": "stream",
          "name": "stdout",
          "text": [
            "Precisión: 1.0\n"
          ]
        }
      ],
      "source": [
        "X_train, X_test, y_train, y_test = train_test_split(train_set, class_set, test_size=0.2, random_state=42)\n",
        "\n",
        "dt_classifier = DecisionTreeClassifier()\n",
        "dt_classifier.fit(X_train, y_train)\n",
        "\n",
        "y_test_pred = dt_classifier.predict(X_test)\n",
        "\n",
        "accuracy = accuracy_score(y_test, y_test_pred)\n",
        "print(f\"Precisión: {accuracy}\")"
      ]
    },
    {
      "cell_type": "code",
      "source": [
        "dataSetCopy = train_set.copy()\n",
        "\n",
        "percentage = 20\n",
        "\n",
        "nRows, nColumns = dataSetCopy.shape\n",
        "\n",
        "total_celdas = nRows * (nColumns - 1)\n",
        "numero_nans = (total_celdas * percentage) // 100\n",
        "\n",
        "for i in range(numero_nans):\n",
        "    row = randrange(0, nRows)\n",
        "    column = randrange(0, nColumns)\n",
        "    dataSetCopy.iloc[row, column] = np.nan"
      ],
      "metadata": {
        "id": "apZ1gxse51zZ"
      },
      "execution_count": null,
      "outputs": []
    },
    {
      "cell_type": "code",
      "source": [
        "missingValuesAttribute = dataSetCopy.isna().sum()\n",
        "print(missingValuesAttribute)"
      ],
      "metadata": {
        "colab": {
          "base_uri": "https://localhost:8080/"
        },
        "id": "2Xp2zB6C8Y7m",
        "outputId": "b3236f6e-d04e-4ee2-fa2a-8ff06229a006"
      },
      "execution_count": null,
      "outputs": [
        {
          "output_type": "stream",
          "name": "stdout",
          "text": [
            "HoraPico     13\n",
            "Festivo      17\n",
            "Lluvia       12\n",
            "Peatones     16\n",
            "Vehiculos    17\n",
            "dtype: int64\n"
          ]
        }
      ]
    },
    {
      "cell_type": "code",
      "source": [
        "sns.heatmap(dataSetCopy.isnull(), cbar=False)\n",
        "plt.show()"
      ],
      "metadata": {
        "colab": {
          "base_uri": "https://localhost:8080/",
          "height": 435
        },
        "id": "81y0Bobi69ei",
        "outputId": "f2b21950-975d-4322-f32a-cf5145998488"
      },
      "execution_count": null,
      "outputs": [
        {
          "output_type": "display_data",
          "data": {
            "text/plain": [
              "<Figure size 640x480 with 1 Axes>"
            ],
            "image/png": "[encoded data removed]"
          },
          "metadata": {}
        }
      ]
    },
    {
      "cell_type": "code",
      "source": [
        "knn_imputer = KNNImputer(n_neighbors = 10)\n",
        "\n",
        "train_imputed = knn_imputer.fit_transform(dataSetCopy)\n",
        "\n",
        "train_imputed = pd.DataFrame(train_imputed, columns = train_set.columns)"
      ],
      "metadata": {
        "id": "_xzzZugB-XJy"
      },
      "execution_count": null,
      "outputs": []
    },
    {
      "cell_type": "code",
      "source": [
        "sns.heatmap(train_imputed.isnull(), cbar=False)\n",
        "plt.show()"
      ],
      "metadata": {
        "colab": {
          "base_uri": "https://localhost:8080/",
          "height": 435
        },
        "id": "UKEMxJdl-pOS",
        "outputId": "8cf4e6b7-6b45-4d14-ef66-7e5ffaf6d5d6"
      },
      "execution_count": null,
      "outputs": [
        {
          "output_type": "display_data",
          "data": {
            "text/plain": [
              "<Figure size 640x480 with 1 Axes>"
            ],
            "image/png": "[encoded data removed]"
          },
          "metadata": {}
        }
      ]
    },
    {
      "cell_type": "code",
      "source": [
        "X_train_imp, X_test_imp, y_train_imp, y_test_imp = train_test_split(train_imputed, class_set, test_size=0.2, random_state=42)\n",
        "\n",
        "dt_classifier2 = DecisionTreeClassifier()\n",
        "dt_classifier2.fit(X_train_imp, y_train_imp)\n",
        "\n",
        "y_test_pred2 = dt_classifier.predict(X_test_imp)\n",
        "\n",
        "accuracy_dt = accuracy_score(y_test_imp, y_test_pred2)\n",
        "print(f\"Precisión: {accuracy}\")"
      ],
      "metadata": {
        "colab": {
          "base_uri": "https://localhost:8080/"
        },
        "id": "-ySmHRz1_G-S",
        "outputId": "3c73418a-a19f-41f9-be5c-747142d7c4d2"
      },
      "execution_count": null,
      "outputs": [
        {
          "output_type": "stream",
          "name": "stdout",
          "text": [
            "Precisión: 1.0\n"
          ]
        }
      ]
    },
    {
      "cell_type": "code",
      "source": [
        "rf_classifier = RandomForestClassifier()\n",
        "rf_classifier .fit(X_train_imp, y_train_imp)\n",
        "\n",
        "y_test_RF = rf_classifier.predict(X_test_imp)\n",
        "\n",
        "accuracy_rf = accuracy_score(y_test_imp, y_test_RF)\n",
        "print(f\"Precisión: {accuracy}\")"
      ],
      "metadata": {
        "colab": {
          "base_uri": "https://localhost:8080/"
        },
        "id": "md6fBy2xBkAn",
        "outputId": "67610b51-1baa-4211-ad0e-8ec43c317204"
      },
      "execution_count": null,
      "outputs": [
        {
          "output_type": "stream",
          "name": "stdout",
          "text": [
            "Precisión: 1.0\n"
          ]
        }
      ]
    },
    {
      "cell_type": "code",
      "source": [
        "svm_model = SVC()\n",
        "svm_model.fit(X_train, y_train)\n",
        "\n",
        "y_test_SVC = svm_model.predict(X_test_imp)\n",
        "\n",
        "accuracy_svc = accuracy_score(y_test_imp, y_test_SVC)\n",
        "print(f\"Precisión: {accuracy}\")\n",
        "\n",
        "\n"
      ],
      "metadata": {
        "colab": {
          "base_uri": "https://localhost:8080/"
        },
        "id": "_ffLvDUkEc_D",
        "outputId": "67e1fd59-7b75-4e4a-b949-3dc91584624d"
      },
      "execution_count": null,
      "outputs": [
        {
          "output_type": "stream",
          "name": "stdout",
          "text": [
            "Precisión: 1.0\n"
          ]
        }
      ]
    }
  ],
  "metadata": {
    "kernelspec": {
      "display_name": "Python 3",
      "language": "python",
      "name": "python3"
    },
    "language_info": {
      "codemirror_mode": {
        "name": "ipython",
        "version": 3
      },
      "file_extension": ".py",
      "mimetype": "text/x-python",
      "name": "python",
      "nbconvert_exporter": "python",
      "pygments_lexer": "ipython3",
      "version": "3.11.6"
    },
    "colab": {
      "provenance": []
    }
  },
  "nbformat": 4,
  "nbformat_minor": 0
}